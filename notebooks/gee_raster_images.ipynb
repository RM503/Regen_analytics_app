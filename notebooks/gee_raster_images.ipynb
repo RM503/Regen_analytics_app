{
 "cells": [
  {
   "cell_type": "markdown",
   "metadata": {},
   "source": [
    "# Real color farm polygon images\n",
    "\n",
    "This notebook contains scripts for retrieving RGB images of farm polygons on specified dates to be used to compare satellite images with NDVI time-series curves."
   ]
  },
  {
   "cell_type": "code",
   "execution_count": 1,
   "metadata": {},
   "outputs": [
    {
     "name": "stderr",
     "output_type": "stream",
     "text": [
      "/Users/rafidmahbub/Desktop/regen_analytics_app/.venv/lib/python3.11/site-packages/geemap/conversion.py:23: UserWarning: pkg_resources is deprecated as an API. See https://setuptools.pypa.io/en/latest/pkg_resources.html. The pkg_resources package is slated for removal as early as 2025-11-30. Refrain from using this package or pin to Setuptools<81.\n",
      "  import pkg_resources\n"
     ]
    }
   ],
   "source": [
    "import os\n",
    "from pprint import pprint \n",
    "\n",
    "from dotenv import load_dotenv \n",
    "import ee\n",
    "import geemap"
   ]
  },
  {
   "cell_type": "code",
   "execution_count": 2,
   "metadata": {},
   "outputs": [
    {
     "data": {
      "text/html": [
       "\n",
       "            <style>\n",
       "                .geemap-dark {\n",
       "                    --jp-widgets-color: white;\n",
       "                    --jp-widgets-label-color: white;\n",
       "                    --jp-ui-font-color1: white;\n",
       "                    --jp-layout-color2: #454545;\n",
       "                    background-color: #383838;\n",
       "                }\n",
       "\n",
       "                .geemap-dark .jupyter-button {\n",
       "                    --jp-layout-color3: #383838;\n",
       "                }\n",
       "\n",
       "                .geemap-colab {\n",
       "                    background-color: var(--colab-primary-surface-color, white);\n",
       "                }\n",
       "\n",
       "                .geemap-colab .jupyter-button {\n",
       "                    --jp-layout-color3: var(--colab-primary-surface-color, white);\n",
       "                }\n",
       "            </style>\n",
       "            "
      ],
      "text/plain": [
       "<IPython.core.display.HTML object>"
      ]
     },
     "metadata": {},
     "output_type": "display_data"
    }
   ],
   "source": [
    "load_dotenv()\n",
    "GEE_PROJECT = os.getenv(\"GEE_PROJECT\")\n",
    "\n",
    "ee.Authenticate()\n",
    "ee.Initialize(project=GEE_PROJECT)"
   ]
  },
  {
   "cell_type": "code",
   "execution_count": 3,
   "metadata": {},
   "outputs": [
    {
     "data": {
      "text/html": [
       "\n",
       "            <style>\n",
       "                .geemap-dark {\n",
       "                    --jp-widgets-color: white;\n",
       "                    --jp-widgets-label-color: white;\n",
       "                    --jp-ui-font-color1: white;\n",
       "                    --jp-layout-color2: #454545;\n",
       "                    background-color: #383838;\n",
       "                }\n",
       "\n",
       "                .geemap-dark .jupyter-button {\n",
       "                    --jp-layout-color3: #383838;\n",
       "                }\n",
       "\n",
       "                .geemap-colab {\n",
       "                    background-color: var(--colab-primary-surface-color, white);\n",
       "                }\n",
       "\n",
       "                .geemap-colab .jupyter-button {\n",
       "                    --jp-layout-color3: var(--colab-primary-surface-color, white);\n",
       "                }\n",
       "            </style>\n",
       "            "
      ],
      "text/plain": [
       "<IPython.core.display.HTML object>"
      ]
     },
     "metadata": {},
     "output_type": "display_data"
    }
   ],
   "source": [
    "def mask_s2_clouds(image: ee.Image) -> ee.Image:\n",
    "    # This function performs cloud masking with Sentinel 2's Q60 band.\n",
    "    qa = image.select(\"QA60\")\n",
    "    cloud_bit_mask = 1 << 10 # Opaque clouds\n",
    "    cirrus_bit_mask = 1 << 11 # Cirrus clouds\n",
    "\n",
    "    mask = qa.bitwiseAnd(cloud_bit_mask).eq(0).And(\n",
    "        qa.bitwiseAnd(cirrus_bit_mask).eq(0)\n",
    "    )\n",
    "\n",
    "    return image.updateMask(mask)\n",
    "\n",
    "def get_image_dates(image_collection: ee.ImageCollection):\n",
    "\n",
    "    # Generate timestamps from the image collection\n",
    "    dates = (\n",
    "        image_collection.aggregate_array(\"system:time_start\")\n",
    "                        .map(lambda time: ee.Date(time).format(\"YYYY-MM-dd\"))\n",
    "    )\n",
    "\n",
    "    return dates.getInfo()\n",
    "\n",
    "def get_rgb_image(geometry: ee.Geometry, START_DATE: str) -> ee.Image:\n",
    "    \"\"\"\n",
    "    This function retrieves the least cloudy image of the given polygon\n",
    "    at a specified 10-day window.\n",
    "    \"\"\"\n",
    "    START_DATE = ee.Date(START_DATE)\n",
    "    NEXT_DATE = START_DATE.advance(10, \"day\")\n",
    "\n",
    "    # Get Sentinel-2 image collection, filter and sort by cloud cover\n",
    "    s2 = (\n",
    "        ee.ImageCollection(\"COPERNICUS/S2_SR_HARMONIZED\")\n",
    "        .filterBounds(geometry)\n",
    "        .filterDate(START_DATE, NEXT_DATE)\n",
    "        .map(mask_s2_clouds)\n",
    "        .sort(\"CLOUD_COVER\")\n",
    "    )\n",
    "\n",
    "    # Take the first (least cloudy) image\n",
    "    image = ee.Image(s2.first())\n",
    "\n",
    "    # Select RGB bands\n",
    "    rgb = image.select([\"B4\", \"B3\", \"B2\"]).clip(geometry)\n",
    "\n",
    "    return rgb.divide(10000)"
   ]
  },
  {
   "cell_type": "code",
   "execution_count": 4,
   "metadata": {},
   "outputs": [
    {
     "data": {
      "text/html": [
       "\n",
       "            <style>\n",
       "                .geemap-dark {\n",
       "                    --jp-widgets-color: white;\n",
       "                    --jp-widgets-label-color: white;\n",
       "                    --jp-ui-font-color1: white;\n",
       "                    --jp-layout-color2: #454545;\n",
       "                    background-color: #383838;\n",
       "                }\n",
       "\n",
       "                .geemap-dark .jupyter-button {\n",
       "                    --jp-layout-color3: #383838;\n",
       "                }\n",
       "\n",
       "                .geemap-colab {\n",
       "                    background-color: var(--colab-primary-surface-color, white);\n",
       "                }\n",
       "\n",
       "                .geemap-colab .jupyter-button {\n",
       "                    --jp-layout-color3: var(--colab-primary-surface-color, white);\n",
       "                }\n",
       "            </style>\n",
       "            "
      ],
      "text/plain": [
       "<IPython.core.display.HTML object>"
      ]
     },
     "metadata": {},
     "output_type": "display_data"
    }
   ],
   "source": [
    "from shapely import from_wkt\n",
    "\n",
    "# Example polygon\n",
    "wkt_polygon = \"POLYGON ((34.989244937896736 0.9892645092090744, 34.98921275138856 0.9904343907706966, 34.98782873153687 0.9914647448315846, 34.987281560897834 0.9928385497472638, 34.986755847930915 0.9931820008870327, 34.98634815216065 0.9931605351918125, 34.986037015914924 0.9929780767770978, 34.98542547225953 0.9928922139901996, 34.98532891273499 0.9922375101668665, 34.985532760620124 0.9920765174035694, 34.98558640480042 0.9917867304098947, 34.98488903045655 0.9903055964905625, 34.9841594696045 0.989436234968717, 34.9856722354889 0.9882878187820331, 34.98659491539002 0.9882878187820331, 34.98835444450379 0.9891571806047718, 34.989244937896736 0.9892645092090744))\"\n",
    "\n",
    "def convert_wkt_to_ee_geometry(wkt: str) -> ee.Geometry:\n",
    "    # Converts wkt polygons to ee.Geometry objects \n",
    "    shapely_polygon = from_wkt(wkt)\n",
    "    x_coords, y_coords = shapely_polygon.exterior.coords.xy \n",
    "\n",
    "    xy_coords = [[x, y] for x, y in zip(x_coords, y_coords)]\n",
    "\n",
    "    return ee.Geometry.Polygon(xy_coords)"
   ]
  },
  {
   "cell_type": "code",
   "execution_count": 9,
   "metadata": {},
   "outputs": [
    {
     "data": {
      "text/html": [
       "\n",
       "            <style>\n",
       "                .geemap-dark {\n",
       "                    --jp-widgets-color: white;\n",
       "                    --jp-widgets-label-color: white;\n",
       "                    --jp-ui-font-color1: white;\n",
       "                    --jp-layout-color2: #454545;\n",
       "                    background-color: #383838;\n",
       "                }\n",
       "\n",
       "                .geemap-dark .jupyter-button {\n",
       "                    --jp-layout-color3: #383838;\n",
       "                }\n",
       "\n",
       "                .geemap-colab {\n",
       "                    background-color: var(--colab-primary-surface-color, white);\n",
       "                }\n",
       "\n",
       "                .geemap-colab .jupyter-button {\n",
       "                    --jp-layout-color3: var(--colab-primary-surface-color, white);\n",
       "                }\n",
       "            </style>\n",
       "            "
      ],
      "text/plain": [
       "<IPython.core.display.HTML object>"
      ]
     },
     "metadata": {},
     "output_type": "display_data"
    },
    {
     "name": "stdout",
     "output_type": "stream",
     "text": [
      "['2023-01-01',\n",
      " '2023-01-06',\n",
      " '2023-01-11',\n",
      " '2023-01-16',\n",
      " '2023-01-21',\n",
      " '2023-01-26',\n",
      " '2023-01-31',\n",
      " '2023-02-05',\n",
      " '2023-02-10',\n",
      " '2023-02-15',\n",
      " '2023-02-20',\n",
      " '2023-02-25',\n",
      " '2023-03-02',\n",
      " '2023-03-07',\n",
      " '2023-03-12',\n",
      " '2023-03-17',\n",
      " '2023-03-22',\n",
      " '2023-03-27',\n",
      " '2023-04-01',\n",
      " '2023-04-06',\n",
      " '2023-04-11',\n",
      " '2023-04-16',\n",
      " '2023-04-21',\n",
      " '2023-04-26',\n",
      " '2023-05-01',\n",
      " '2023-05-06',\n",
      " '2023-05-11',\n",
      " '2023-05-16',\n",
      " '2023-05-21',\n",
      " '2023-05-26',\n",
      " '2023-05-31',\n",
      " '2023-06-05',\n",
      " '2023-06-10',\n",
      " '2023-06-15',\n",
      " '2023-06-20',\n",
      " '2023-06-25',\n",
      " '2023-06-30',\n",
      " '2023-07-05',\n",
      " '2023-07-10',\n",
      " '2023-07-15',\n",
      " '2023-07-20',\n",
      " '2023-07-25',\n",
      " '2023-07-30',\n",
      " '2023-08-04',\n",
      " '2023-08-14',\n",
      " '2023-08-19',\n",
      " '2023-08-24',\n",
      " '2023-08-29',\n",
      " '2023-09-03',\n",
      " '2023-09-08',\n",
      " '2023-09-13',\n",
      " '2023-09-18',\n",
      " '2023-09-23',\n",
      " '2023-09-28',\n",
      " '2023-10-03',\n",
      " '2023-10-08',\n",
      " '2023-10-13',\n",
      " '2023-10-18',\n",
      " '2023-10-23',\n",
      " '2023-10-28',\n",
      " '2023-11-02',\n",
      " '2023-11-12',\n",
      " '2023-11-17',\n",
      " '2023-11-22',\n",
      " '2023-11-27',\n",
      " '2023-12-02',\n",
      " '2023-12-07',\n",
      " '2023-12-12',\n",
      " '2023-12-17',\n",
      " '2023-12-22',\n",
      " '2023-12-27']\n"
     ]
    }
   ],
   "source": [
    "polygon = convert_wkt_to_ee_geometry(wkt_polygon)\n",
    "center = polygon.centroid().getInfo()[\"coordinates\"]\n",
    "\n",
    "# Sentinel-2 image collection filtered by region and date range\n",
    "collection: ee.ImageCollection = (\n",
    "    ee.ImageCollection(\"COPERNICUS/S2_SR_HARMONIZED\")\n",
    "    .filterBounds(polygon)\n",
    "    .filterDate(\"2023-01-01\", \"2023-12-31\")\n",
    ")\n",
    "\n",
    "unique_dates = get_image_dates(collection)\n",
    "\n",
    "pprint(unique_dates)"
   ]
  },
  {
   "cell_type": "code",
   "execution_count": 16,
   "metadata": {},
   "outputs": [
    {
     "data": {
      "text/html": [
       "\n",
       "            <style>\n",
       "                .geemap-dark {\n",
       "                    --jp-widgets-color: white;\n",
       "                    --jp-widgets-label-color: white;\n",
       "                    --jp-ui-font-color1: white;\n",
       "                    --jp-layout-color2: #454545;\n",
       "                    background-color: #383838;\n",
       "                }\n",
       "\n",
       "                .geemap-dark .jupyter-button {\n",
       "                    --jp-layout-color3: #383838;\n",
       "                }\n",
       "\n",
       "                .geemap-colab {\n",
       "                    background-color: var(--colab-primary-surface-color, white);\n",
       "                }\n",
       "\n",
       "                .geemap-colab .jupyter-button {\n",
       "                    --jp-layout-color3: var(--colab-primary-surface-color, white);\n",
       "                }\n",
       "            </style>\n",
       "            "
      ],
      "text/plain": [
       "<IPython.core.display.HTML object>"
      ]
     },
     "metadata": {},
     "output_type": "display_data"
    },
    {
     "data": {
      "application/vnd.jupyter.widget-view+json": {
       "model_id": "16134978d7904b52bec4979c29541916",
       "version_major": 2,
       "version_minor": 0
      },
      "text/plain": [
       "Map(center=[0.9904466314006417, 34.986706752816545], controls=(WidgetControl(options=['position', 'transparent…"
      ]
     },
     "metadata": {},
     "output_type": "display_data"
    },
    {
     "data": {
      "application/vnd.jupyter.widget-view+json": {
       "model_id": "ad5d67a6875e414eb6c093d5e2d2911c",
       "version_major": 2,
       "version_minor": 0
      },
      "text/plain": [
       "IntSlider(value=0, description='Date', max=70)"
      ]
     },
     "metadata": {},
     "output_type": "display_data"
    }
   ],
   "source": [
    "import ipywidgets as widgets\n",
    "from IPython.display import display\n",
    "\n",
    "viz_params = {\"min\": 0, \"max\": 1.5, \"gamma\": 2.5}\n",
    "\n",
    "# Create one map and display it once\n",
    "coords = polygon.centroid().coordinates().getInfo()\n",
    "lon, lat = coords\n",
    "m = geemap.Map(center=[lat, lon], zoom=16)\n",
    "display(m)\n",
    "\n",
    "# Add initial layer\n",
    "current_layer = m.addLayer(get_rgb_image(polygon, unique_dates[0]), viz_params, \"RGB\")\n",
    "\n",
    "# Add initial date text\n",
    "text_layer = m.add_text(\n",
    "    unique_dates[0], position=\"topright\", font_size=18, font_color=\"white\", bold=True\n",
    ")\n",
    "\n",
    "slider = widgets.IntSlider(min=0, max=len(unique_dates)-1, value=0, description=\"Date\")\n",
    "\n",
    "def update_map(n):\n",
    "    # Clear all layers (except basemap)\n",
    "    for layer in list(m.layers)[1:]:  # skip base layer at index 0\n",
    "        m.remove_layer(layer)\n",
    "\n",
    "    # Add new RGB image\n",
    "    rgb_image = get_rgb_image(polygon, unique_dates[n])\n",
    "    m.addLayer(rgb_image, viz_params, \"RGB\")\n",
    "\n",
    "    # Add date text\n",
    "    m.add_text(unique_dates[n], position=\"topright\", font_size=18, font_color=\"white\", bold=True)\n",
    "\n",
    "# Connect slider\n",
    "slider.observe(lambda change: update_map(change[\"new\"]), names=\"value\")\n",
    "display(slider)"
   ]
  },
  {
   "cell_type": "code",
   "execution_count": null,
   "metadata": {},
   "outputs": [],
   "source": []
  }
 ],
 "metadata": {
  "kernelspec": {
   "display_name": ".venv",
   "language": "python",
   "name": "python3"
  },
  "language_info": {
   "codemirror_mode": {
    "name": "ipython",
    "version": 3
   },
   "file_extension": ".py",
   "mimetype": "text/x-python",
   "name": "python",
   "nbconvert_exporter": "python",
   "pygments_lexer": "ipython3",
   "version": "3.11.8"
  }
 },
 "nbformat": 4,
 "nbformat_minor": 2
}
